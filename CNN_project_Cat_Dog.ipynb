{
 "cells": [
  {
   "cell_type": "markdown",
   "metadata": {
    "id": "3DR-eO17geWu"
   },
   "source": [
    "# Convolutional Neural Network"
   ]
  },
  {
   "cell_type": "markdown",
   "metadata": {
    "id": "EMefrVPCg-60"
   },
   "source": [
    "### Importing the libraries"
   ]
  },
  {
   "cell_type": "code",
   "execution_count": 1,
   "metadata": {
    "id": "-_TkD9aFMb7W"
   },
   "outputs": [],
   "source": [
    "import tensorflow as tf\n",
    "from keras.preprocessing.image import ImageDataGenerator"
   ]
  },
  {
   "cell_type": "markdown",
   "metadata": {
    "id": "oxQxCBWyoGPE"
   },
   "source": [
    "## Part 1 - Data Preprocessing"
   ]
  },
  {
   "cell_type": "markdown",
   "metadata": {
    "id": "MvE-heJNo3GG"
   },
   "source": [
    "### Preprocessing the Training set"
   ]
  },
  {
   "cell_type": "code",
   "execution_count": 2,
   "metadata": {
    "id": "QbvFgorQM8ES"
   },
   "outputs": [
    {
     "name": "stdout",
     "output_type": "stream",
     "text": [
      "Found 8000 images belonging to 2 classes.\n"
     ]
    }
   ],
   "source": [
    "train_datagen = ImageDataGenerator(\n",
    "        rescale=1./255,\n",
    "        shear_range=0.2,\n",
    "        zoom_range=0.2,\n",
    "        horizontal_flip=True)\n",
    "train_set = train_datagen.flow_from_directory(\n",
    "        'training_set',\n",
    "        target_size=(64, 64),\n",
    "        batch_size=32,\n",
    "        class_mode='binary')"
   ]
  },
  {
   "cell_type": "markdown",
   "metadata": {
    "id": "mrCMmGw9pHys"
   },
   "source": [
    "### Preprocessing the Test set"
   ]
  },
  {
   "cell_type": "code",
   "execution_count": 3,
   "metadata": {
    "id": "6DNbV2WURCCd"
   },
   "outputs": [
    {
     "name": "stdout",
     "output_type": "stream",
     "text": [
      "Found 2000 images belonging to 2 classes.\n"
     ]
    }
   ],
   "source": [
    "test_datagen = ImageDataGenerator(rescale=1./255)\n",
    "test_set = test_datagen.flow_from_directory(\n",
    "        'test_set',\n",
    "        target_size=(64, 64),\n",
    "        batch_size=32,\n",
    "        class_mode='binary')"
   ]
  },
  {
   "cell_type": "markdown",
   "metadata": {
    "id": "af8O4l90gk7B"
   },
   "source": [
    "## Part 2 - Building the CNN"
   ]
  },
  {
   "cell_type": "markdown",
   "metadata": {
    "id": "ces1gXY2lmoX"
   },
   "source": [
    "### Initialising the CNN"
   ]
  },
  {
   "cell_type": "code",
   "execution_count": 4,
   "metadata": {
    "id": "qVz5Wr2NRWhe"
   },
   "outputs": [],
   "source": [
    "cnn=tf.keras.models.Sequential()"
   ]
  },
  {
   "cell_type": "markdown",
   "metadata": {
    "id": "u5YJj_XMl5LF"
   },
   "source": [
    "### Step 1 - Convolution"
   ]
  },
  {
   "cell_type": "code",
   "execution_count": 5,
   "metadata": {
    "id": "6gfWzy2eRehx"
   },
   "outputs": [],
   "source": [
    "cnn.add(tf.keras.layers.Conv2D(filters=32,kernel_size=3,activation='relu',input_shape=[64,64,3]))"
   ]
  },
  {
   "cell_type": "markdown",
   "metadata": {
    "id": "tf87FpvxmNOJ"
   },
   "source": [
    "### Step 2 - Pooling"
   ]
  },
  {
   "cell_type": "code",
   "execution_count": 6,
   "metadata": {
    "id": "6VeEhxcXS2U6"
   },
   "outputs": [],
   "source": [
    "cnn.add(tf.keras.layers.MaxPool2D(pool_size=2,strides=2))"
   ]
  },
  {
   "cell_type": "markdown",
   "metadata": {
    "id": "xaTOgD8rm4mU"
   },
   "source": [
    "### Adding a second convolutional layer"
   ]
  },
  {
   "cell_type": "code",
   "execution_count": 7,
   "metadata": {
    "id": "cHlN5Cn5TWRj"
   },
   "outputs": [],
   "source": [
    "cnn.add(tf.keras.layers.Conv2D(filters=32,kernel_size=3,activation='relu'))\n",
    "cnn.add(tf.keras.layers.MaxPool2D(pool_size=2,strides=2))"
   ]
  },
  {
   "cell_type": "markdown",
   "metadata": {
    "id": "tmiEuvTunKfk"
   },
   "source": [
    "### Step 3 - Flattening"
   ]
  },
  {
   "cell_type": "code",
   "execution_count": 8,
   "metadata": {
    "id": "rtVI2WHOTdHi"
   },
   "outputs": [],
   "source": [
    "cnn.add(tf.keras.layers.Flatten())"
   ]
  },
  {
   "cell_type": "markdown",
   "metadata": {
    "id": "dAoSECOm203v"
   },
   "source": [
    "### Step 4 - Full Connection"
   ]
  },
  {
   "cell_type": "code",
   "execution_count": 9,
   "metadata": {
    "id": "vyqxi4CxTng9"
   },
   "outputs": [],
   "source": [
    "cnn.add(tf.keras.layers.Dense(units=128,activation='relu'))"
   ]
  },
  {
   "cell_type": "markdown",
   "metadata": {
    "id": "yTldFvbX28Na"
   },
   "source": [
    "### Step 5 - Output Layer"
   ]
  },
  {
   "cell_type": "code",
   "execution_count": 10,
   "metadata": {
    "id": "OO2ryse3T3Qu"
   },
   "outputs": [],
   "source": [
    "cnn.add(tf.keras.layers.Dense(units=1,activation='sigmoid'))"
   ]
  },
  {
   "cell_type": "markdown",
   "metadata": {
    "id": "D6XkI90snSDl"
   },
   "source": [
    "## Part 3 - Training the CNN"
   ]
  },
  {
   "cell_type": "markdown",
   "metadata": {
    "id": "vfrFQACEnc6i"
   },
   "source": [
    "### Compiling the CNN"
   ]
  },
  {
   "cell_type": "code",
   "execution_count": 11,
   "metadata": {
    "id": "Mf1iXG3uUdiL"
   },
   "outputs": [],
   "source": [
    "cnn.compile(optimizer= 'adam',loss='binary_crossentropy',metrics=['accuracy'])"
   ]
  },
  {
   "cell_type": "markdown",
   "metadata": {
    "id": "ehS-v3MIpX2h"
   },
   "source": [
    "### Training the CNN on the Training set and evaluating it on the Test set"
   ]
  },
  {
   "cell_type": "code",
   "execution_count": 12,
   "metadata": {
    "id": "JRQT1b4UUiOr"
   },
   "outputs": [
    {
     "name": "stdout",
     "output_type": "stream",
     "text": [
      "Epoch 1/35\n",
      "250/250 [==============================] - 125s 496ms/step - loss: 0.6811 - accuracy: 0.5589 - val_loss: 0.6614 - val_accuracy: 0.6145\n",
      "Epoch 2/35\n",
      "250/250 [==============================] - 27s 108ms/step - loss: 0.6443 - accuracy: 0.6371 - val_loss: 0.6199 - val_accuracy: 0.6965\n",
      "Epoch 3/35\n",
      "250/250 [==============================] - 27s 106ms/step - loss: 0.6033 - accuracy: 0.6710 - val_loss: 0.5571 - val_accuracy: 0.7270\n",
      "Epoch 4/35\n",
      "250/250 [==============================] - 25s 102ms/step - loss: 0.5673 - accuracy: 0.7061 - val_loss: 0.5469 - val_accuracy: 0.7260\n",
      "Epoch 5/35\n",
      "250/250 [==============================] - 25s 101ms/step - loss: 0.5277 - accuracy: 0.7360 - val_loss: 0.5142 - val_accuracy: 0.7480\n",
      "Epoch 6/35\n",
      "250/250 [==============================] - 25s 101ms/step - loss: 0.5008 - accuracy: 0.7514 - val_loss: 0.4932 - val_accuracy: 0.7590\n",
      "Epoch 7/35\n",
      "250/250 [==============================] - 25s 102ms/step - loss: 0.4807 - accuracy: 0.7700 - val_loss: 0.5111 - val_accuracy: 0.7515\n",
      "Epoch 8/35\n",
      "250/250 [==============================] - 26s 102ms/step - loss: 0.4614 - accuracy: 0.7829 - val_loss: 0.4701 - val_accuracy: 0.7820\n",
      "Epoch 9/35\n",
      "250/250 [==============================] - 26s 104ms/step - loss: 0.4502 - accuracy: 0.7836 - val_loss: 0.4675 - val_accuracy: 0.7740\n",
      "Epoch 10/35\n",
      "250/250 [==============================] - 26s 104ms/step - loss: 0.4338 - accuracy: 0.7991 - val_loss: 0.5140 - val_accuracy: 0.7435\n",
      "Epoch 11/35\n",
      "250/250 [==============================] - 26s 104ms/step - loss: 0.4204 - accuracy: 0.8024 - val_loss: 0.4896 - val_accuracy: 0.7810\n",
      "Epoch 12/35\n",
      "250/250 [==============================] - 26s 105ms/step - loss: 0.4001 - accuracy: 0.8186 - val_loss: 0.4818 - val_accuracy: 0.7760\n",
      "Epoch 13/35\n",
      "250/250 [==============================] - 26s 105ms/step - loss: 0.3771 - accuracy: 0.8259 - val_loss: 0.4747 - val_accuracy: 0.7880\n",
      "Epoch 14/35\n",
      "250/250 [==============================] - 26s 104ms/step - loss: 0.3670 - accuracy: 0.8366 - val_loss: 0.5129 - val_accuracy: 0.7600\n",
      "Epoch 15/35\n",
      "250/250 [==============================] - 26s 104ms/step - loss: 0.3536 - accuracy: 0.8469 - val_loss: 0.4847 - val_accuracy: 0.7845\n",
      "Epoch 16/35\n",
      "250/250 [==============================] - 26s 105ms/step - loss: 0.3313 - accuracy: 0.8520 - val_loss: 0.5126 - val_accuracy: 0.7740\n",
      "Epoch 17/35\n",
      "250/250 [==============================] - 26s 105ms/step - loss: 0.3193 - accuracy: 0.8633 - val_loss: 0.5904 - val_accuracy: 0.7665\n",
      "Epoch 18/35\n",
      "250/250 [==============================] - 26s 105ms/step - loss: 0.3062 - accuracy: 0.8719 - val_loss: 0.4926 - val_accuracy: 0.7880\n",
      "Epoch 19/35\n",
      "250/250 [==============================] - 26s 105ms/step - loss: 0.2864 - accuracy: 0.8764 - val_loss: 0.4748 - val_accuracy: 0.8000\n",
      "Epoch 20/35\n",
      "250/250 [==============================] - 26s 104ms/step - loss: 0.2765 - accuracy: 0.8815 - val_loss: 0.4897 - val_accuracy: 0.7990\n",
      "Epoch 21/35\n",
      "250/250 [==============================] - 27s 109ms/step - loss: 0.2508 - accuracy: 0.8898 - val_loss: 0.5107 - val_accuracy: 0.7955\n",
      "Epoch 22/35\n",
      "250/250 [==============================] - 27s 109ms/step - loss: 0.2557 - accuracy: 0.8924 - val_loss: 0.5405 - val_accuracy: 0.7930\n",
      "Epoch 23/35\n",
      "250/250 [==============================] - 29s 118ms/step - loss: 0.2237 - accuracy: 0.9089 - val_loss: 0.5590 - val_accuracy: 0.7845\n",
      "Epoch 24/35\n",
      "250/250 [==============================] - 28s 114ms/step - loss: 0.2098 - accuracy: 0.9130 - val_loss: 0.5942 - val_accuracy: 0.7905\n",
      "Epoch 25/35\n",
      "250/250 [==============================] - 26s 106ms/step - loss: 0.2122 - accuracy: 0.9149 - val_loss: 0.5606 - val_accuracy: 0.7955\n",
      "Epoch 26/35\n",
      "250/250 [==============================] - 27s 109ms/step - loss: 0.1979 - accuracy: 0.9219 - val_loss: 0.5724 - val_accuracy: 0.7985\n",
      "Epoch 27/35\n",
      "250/250 [==============================] - 27s 109ms/step - loss: 0.1861 - accuracy: 0.9284 - val_loss: 0.6057 - val_accuracy: 0.7955\n",
      "Epoch 28/35\n",
      "250/250 [==============================] - 27s 106ms/step - loss: 0.1735 - accuracy: 0.9301 - val_loss: 0.6046 - val_accuracy: 0.8020\n",
      "Epoch 29/35\n",
      "250/250 [==============================] - 28s 110ms/step - loss: 0.1799 - accuracy: 0.9301 - val_loss: 0.5793 - val_accuracy: 0.7970\n",
      "Epoch 30/35\n",
      "250/250 [==============================] - 27s 107ms/step - loss: 0.1608 - accuracy: 0.9324 - val_loss: 0.6667 - val_accuracy: 0.7965\n",
      "Epoch 31/35\n",
      "250/250 [==============================] - 27s 108ms/step - loss: 0.1594 - accuracy: 0.9379 - val_loss: 0.6185 - val_accuracy: 0.7870\n",
      "Epoch 32/35\n",
      "250/250 [==============================] - 26s 105ms/step - loss: 0.1456 - accuracy: 0.9429 - val_loss: 0.7008 - val_accuracy: 0.7720\n",
      "Epoch 33/35\n",
      "250/250 [==============================] - 26s 105ms/step - loss: 0.1424 - accuracy: 0.9448 - val_loss: 0.6761 - val_accuracy: 0.7950\n",
      "Epoch 34/35\n",
      "250/250 [==============================] - 26s 106ms/step - loss: 0.1326 - accuracy: 0.9498 - val_loss: 0.7087 - val_accuracy: 0.7965\n",
      "Epoch 35/35\n",
      "250/250 [==============================] - 26s 105ms/step - loss: 0.1249 - accuracy: 0.9526 - val_loss: 0.7163 - val_accuracy: 0.7900\n"
     ]
    },
    {
     "data": {
      "text/plain": [
       "<keras.src.callbacks.History at 0x1743b38ff10>"
      ]
     },
     "execution_count": 12,
     "metadata": {},
     "output_type": "execute_result"
    }
   ],
   "source": [
    "cnn.fit(x=train_set,validation_data=test_set,epochs=35)"
   ]
  },
  {
   "cell_type": "markdown",
   "metadata": {
    "id": "U3PZasO0006Z"
   },
   "source": [
    "## Part 4 - Making a single prediction"
   ]
  },
  {
   "cell_type": "code",
   "execution_count": 29,
   "metadata": {
    "colab": {
     "base_uri": "https://localhost:8080/",
     "height": 140
    },
    "id": "X8U8ztcmV9V0",
    "outputId": "fd357de4-3a83-4311-9c47-a3fd399a18dc"
   },
   "outputs": [
    {
     "name": "stdout",
     "output_type": "stream",
     "text": [
      "1/1 [==============================] - 0s 16ms/step\n",
      "{'cats': 0, 'dogs': 1}\n"
     ]
    }
   ],
   "source": [
    "import numpy as np\n",
    "from keras.preprocessing import image\n",
    "test_image=image.load_img('single_prediction/cat_or_dog_4.jpg',target_size=(64,64))\n",
    "test_image=image.img_to_array(test_image)\n",
    "test_image=np.expand_dims(test_image,axis=0)\n",
    "result=cnn.predict(test_image)\n",
    "print(train_set.class_indices)\n",
    "if(result[0][0]==1):\n",
    "  pred='Dog'\n",
    "else:\n",
    "  pred='Cat'\n"
   ]
  },
  {
   "cell_type": "code",
   "execution_count": 30,
   "metadata": {
    "id": "WntKfnSYX8IA"
   },
   "outputs": [
    {
     "name": "stdout",
     "output_type": "stream",
     "text": [
      "Dog\n"
     ]
    }
   ],
   "source": [
    "print(pred)"
   ]
  },
  {
   "cell_type": "code",
   "execution_count": null,
   "metadata": {},
   "outputs": [],
   "source": []
  }
 ],
 "metadata": {
  "colab": {
   "provenance": [],
   "toc_visible": true
  },
  "kernelspec": {
   "display_name": "Python 3 (ipykernel)",
   "language": "python",
   "name": "python3"
  },
  "language_info": {
   "codemirror_mode": {
    "name": "ipython",
    "version": 3
   },
   "file_extension": ".py",
   "mimetype": "text/x-python",
   "name": "python",
   "nbconvert_exporter": "python",
   "pygments_lexer": "ipython3",
   "version": "3.11.3"
  }
 },
 "nbformat": 4,
 "nbformat_minor": 1
}
